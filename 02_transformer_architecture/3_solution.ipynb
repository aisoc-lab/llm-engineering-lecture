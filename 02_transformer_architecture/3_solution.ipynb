{
 "cells": [
  {
   "cell_type": "markdown",
   "id": "bfbb5767",
   "metadata": {},
   "source": [
    "# A deeper look into generation with transformers\n",
    "\n",
    "In the last exercise, we worked with open source LLMs to generate text. Today, we will learn how to do so more efficiently.\n",
    "\n",
    "Among other things, we will be working with GPUs that can help us speed up inference."
   ]
  },
  {
   "cell_type": "code",
   "execution_count": null,
   "id": "093dfcea",
   "metadata": {},
   "outputs": [],
   "source": [
    "! pip install transformers torch tqdm accelerate --upgrade --quiet"
   ]
  },
  {
   "cell_type": "code",
   "execution_count": null,
   "id": "090d695f",
   "metadata": {},
   "outputs": [],
   "source": [
    "from transformers import AutoModelForCausalLM, AutoTokenizer\n",
    "import torch\n",
    "import matplotlib\n",
    "import numpy as np\n",
    "import random\n",
    "import datasets\n",
    "import os\n",
    "import tqdm.auto as tqdm\n",
    "from transformers import set_seed\n",
    "os.environ[\"TOKENIZERS_PARALLELISM\"] = \"false\"\n",
    "\n",
    "\n",
    "seed = 1122\n",
    "\n",
    "# Selecting the font size here will affect all the figures in this notebook\n",
    "# Alternatively, you can set the font size for axis labels of each figure separately\n",
    "font = {'size': 16}\n",
    "matplotlib.rc('font', **font)"
   ]
  },
  {
   "cell_type": "markdown",
   "id": "4ae4268a",
   "metadata": {},
   "source": [
    "# Exercise 1: Setting up the model\n",
    "\n",
    "Let us set up our model which we will use for the rest of the exercise."
   ]
  },
  {
   "cell_type": "markdown",
   "id": "8ee89f5c",
   "metadata": {},
   "source": [
    "## Exercise 1a: Setting up the virtual machine with a GPU\n",
    "\n",
    "Your first task is to form groups of 3. The number of GPUs we have is capped at 10 so we cannot have more than 10 teams working simultaneously.\n",
    "\n",
    "Next connect to the GPU server by following the instructions below. Only one person from each team should connect.\n",
    "\n",
    "1. Go to https://jupyterhub.uni-muenster.de/.\n",
    "2. Log in using your RUB credentials.\n",
    "3. Launch a new virtual machine using the following config:\n",
    " * vCPU: 1-8\n",
    " * Memory: 8 - 16\n",
    " * GPU: NVIDIA A40, 12 GB RAM\n",
    "4. Use the token provided to you in the class.\n",
    "5. Wait until the jupyter lab environment opens up.\n",
    "6. Upload this notebook to Jupyter Lab. Go to the top left corner, click file and then \"Open from path\". \n"
   ]
  },
  {
   "cell_type": "markdown",
   "id": "702541a6",
   "metadata": {},
   "source": [
    "## Exercise 1b: Watching the GPU Usage [Only if you are on a machine with a GPU]\n",
    "\n",
    "1. Open a new terminal by following File -> New -> Terminal.\n",
    "2. Click on the newly opened tab within the jupyter lab. This is not a new browser tab, but a new tab within the jupyter lab environment. \n",
    "3. In the console, execute the command `watch -n1 nvidia-smi`. The command shows you the GPU usage. Right now, you should be using 0 MB or GPU RAM. THe utilization should also be 0%. "
   ]
  },
  {
   "cell_type": "markdown",
   "id": "dfea885f",
   "metadata": {},
   "source": [
    "## Exercise 1c: Downloading the model\n",
    "\n",
    "Now let us start working with a LLM. Execute the cell below to download the model and load it in GPU."
   ]
  },
  {
   "cell_type": "code",
   "execution_count": null,
   "id": "e24c08de",
   "metadata": {},
   "outputs": [],
   "source": [
    "model_name = \"Qwen/Qwen2.5-0.5B\" # Very small model that we used in the last class. Can be used without a GPU.\n",
    "# model_name = \"ministral/Ministral-3b-instruct\" # Use if you have access to a GPU\n",
    "model = AutoModelForCausalLM.from_pretrained(model_name)\n",
    "tokenizer = AutoTokenizer.from_pretrained(model_name)"
   ]
  },
  {
   "cell_type": "markdown",
   "id": "9acde406",
   "metadata": {},
   "source": [
    "## Exercise 1d: Generating multiple tokens with the model\n",
    "\n",
    "You already know the code below from the previous exercise. Run it again to make sure everything still works :)"
   ]
  },
  {
   "cell_type": "code",
   "execution_count": null,
   "id": "5ec299b6",
   "metadata": {},
   "outputs": [],
   "source": [
    "def generate(prompt: str, gen_len: int, temp: float = 1):\n",
    "    tokenized_input = tokenizer(prompt, return_tensors=\"pt\")\n",
    "    input_ids = tokenized_input[\"input_ids\"]\n",
    "    for _ in range(gen_len):\n",
    "        with torch.no_grad():\n",
    "           output = model(input_ids).logits  # We should pass the attention mask but we can ignore it for causal LLMs when we have just a single input\n",
    "        output = output.squeeze(dim=0)\n",
    "        next_token_scores = output[-1]\n",
    "        softmax_probs = torch.softmax(next_token_scores.reshape(1,-1) / temp, axis=-1)\n",
    "        next_token_id = torch.multinomial(softmax_probs.flatten(), 1)\n",
    "        input_ids = torch.cat((input_ids, torch.LongTensor([next_token_id]).reshape(1,-1)), dim=-1)\n",
    "    return tokenizer.decode(input_ids.numpy().flatten())\n",
    "\n",
    "\n",
    "prompt = \"Berlin is a city in\"\n",
    "generate(prompt, 30, 0.01)"
   ]
  },
  {
   "cell_type": "markdown",
   "id": "3145d995",
   "metadata": {},
   "source": [
    "# Exercise 2: Measuring and optimizing model performance"
   ]
  },
  {
   "cell_type": "markdown",
   "id": "ca0b02c2",
   "metadata": {},
   "source": [
    "## Exercise 2a: Measuring model throughput [20 mins]\n",
    "\n",
    "Before you can optimize model performance, you need to be able to measure it.\n",
    "\n",
    "Rewerite the `generate` function. It should now take two new parameters as input:\n",
    "1. `num_generations: int = 10` denotes how many outputs you want to generate for each prompt.\n",
    "2. `progress: bool = True`. If this parameter is set to `True`, it should print a nested progress bar. The first bar updates every time the model generates a complete output. The second bar updates every time a new token within the output is generated. You can use [nested tqdm bars](https://github.com/tqdm/tqdm/blob/0ed5d7f18fa3153834cbac0aa57e8092b217cc16/README.rst#nested-progress-bars), which are two nested `tqdm.trange` loops."
   ]
  },
  {
   "cell_type": "code",
   "execution_count": null,
   "id": "4eb52417",
   "metadata": {},
   "outputs": [],
   "source": [
    "# Your code here\n",
    "from typing import List\n",
    "\n",
    "def generate(\n",
    "    prompt: str,\n",
    "    gen_len: int,\n",
    "    temp: float = 1,\n",
    "    num_generations: int = 10,\n",
    "    progress: bool = True,\n",
    ") -> List[str]:\n",
    "\n",
    "    def _generate_once(generation_number):\n",
    "        tokenized_input = tokenizer(prompt, return_tensors=\"pt\")\n",
    "        input_ids = tokenized_input[\"input_ids\"]\n",
    "        bar_inner = tqdm.trange(gen_len, disable=not progress)\n",
    "        for i in bar_inner:\n",
    "            bar_inner.set_description(f\"Tokens for generation # {generation_number}\")\n",
    "            with torch.no_grad():\n",
    "               output = model(input_ids).logits  # We should pass the attention mask but we can ignore it for causal LLMs when we have just a single input\n",
    "            output = output.squeeze(dim=0)\n",
    "            next_token_scores = output[-1]\n",
    "            softmax_probs = torch.softmax(next_token_scores.reshape(1,-1) / temp, axis=-1)\n",
    "            next_token_id = torch.multinomial(softmax_probs.flatten(), 1)\n",
    "            input_ids = torch.cat((input_ids, torch.LongTensor([next_token_id]).reshape(1,-1)), dim=-1)\n",
    "        return tokenizer.decode(input_ids.numpy().flatten())\n",
    "\n",
    "    outputs = []\n",
    "    bar_outer = tqdm.trange(num_generations, disable=not progress)\n",
    "    bar_outer.set_description(\"Generation #\")\n",
    "    for i in bar_outer:\n",
    "        outputs.append(_generate_once(i))\n",
    "    return outputs\n",
    "\n",
    "\n",
    "prompt = \"Berlin is a city in\"\n",
    "generations = generate(prompt, 30, temp=0.5, num_generations=10, progress=True)\n",
    "print(\"\\n\")\n",
    "for i, gen in enumerate(generations):\n",
    "    print(f\"== Generation # {i}==\")\n",
    "    print(gen)\n",
    "    print(\"\\n\")"
   ]
  },
  {
   "cell_type": "markdown",
   "id": "e3800d68",
   "metadata": {},
   "source": [
    "## Exercise 2b: Speeding things up with batching [30 mins]\n",
    "\n",
    "Deep models can benefit from batching. Convert your code into a batched one where instead of generating a single output, you generate `num_generations` outputs at once. Specifically, instead of drawing a single token from the multinomial, you would draw `num_generations` tokens now.\n",
    "\n",
    "Take 10 prompts from the BOLD dataset (you used it in the previous exercise). For each prompt, generate outputs with `num_generations=10` and `gen_len=30` with _batching_ and _without batching_. Report the time taken by each approach."
   ]
  },
  {
   "cell_type": "code",
   "execution_count": null,
   "id": "989417ae",
   "metadata": {},
   "outputs": [],
   "source": [
    "# Loading the BOLD data\n",
    "n_prompts = 10\n",
    "bold = datasets.load_dataset(\"AlexaAI/bold\")\n",
    "random.seed(11)\n",
    "prompts = []\n",
    "for prompt_list in bold[\"train\"][\"prompts\"]:\n",
    "    prompts.extend(prompt_list)\n",
    "random.shuffle(prompts)\n",
    "prompts = prompts[:n_prompts]\n",
    "for prompt in prompts:\n",
    "    print(prompt)"
   ]
  },
  {
   "cell_type": "code",
   "execution_count": null,
   "id": "29e7b740",
   "metadata": {},
   "outputs": [],
   "source": [
    "# Your code here\n",
    "from typing import List\n",
    "\n",
    "def generate_batch(\n",
    "    prompt: str,\n",
    "    gen_len: int,\n",
    "    temp: float = 1,\n",
    "    num_generations: int = 10,\n",
    "    progress: bool = True,\n",
    ") -> List[str]:\n",
    "\n",
    "    tokenized_input = tokenizer([prompt] * num_generations, return_tensors=\"pt\")\n",
    "    input_ids = tokenized_input[\"input_ids\"]\n",
    "    bar = tqdm.trange(gen_len, disable=not progress)\n",
    "    for i in bar:\n",
    "        with torch.no_grad():\n",
    "            output = model(input_ids).logits  # We should pass the attention mask but we can ignore it for causal LLMs when we have just a single input\n",
    "        # Shape of the output is (batch, input token location, output token probability)\n",
    "        # Select the output token probability at the last input token\n",
    "        next_token_scores = output[:, -1, :]\n",
    "        softmax_probs = torch.softmax(next_token_scores / temp, axis=-1)\n",
    "        next_token_ids = torch.multinomial(softmax_probs, 1)\n",
    "        input_ids = torch.cat((input_ids, next_token_ids), dim=-1)\n",
    "        \n",
    "    return tokenizer.batch_decode(input_ids.numpy())\n",
    "\n",
    "\n",
    "prompt = \"Berlin is a city in\"\n",
    "generations = generate_batch(prompt, 30, temp=0.5, num_generations=10, progress=True)\n",
    "print(\"\\n\")\n",
    "for i, gen in enumerate(generations):\n",
    "    print(f\"== Generation # {i}==\")\n",
    "    print(gen)\n",
    "    print(\"\\n\")"
   ]
  },
  {
   "cell_type": "markdown",
   "id": "c26392f2",
   "metadata": {},
   "source": [
    "# Exercise 3: Using `model.generate` [25 mins]\n",
    "\n",
    "Instead of using your own generate function, now use the built-in `model.generate` function with the same values for `num_generations` and `gen_lenght` (they are named slightly differently for `model.generate`). You can use the [`GenerationConfig`](https://huggingface.co/docs/transformers/main/en/main_classes/text_generation#transformers.GenerationConfig) object to control the generation. For examples, see [here](https://huggingface.co/docs/transformers/en/llm_tutorial).\n",
    "\n",
    "1. Compare the time it takes the model to generate the outputs with your own `generate` function from the previous exercise. Are there any differences? Why?\n",
    "2. The `generate` function by default uses KV cache. Set `use_cache = False` to disable KV caching. Do you notice any difference in performance?"
   ]
  },
  {
   "cell_type": "code",
   "execution_count": null,
   "id": "385776f3",
   "metadata": {},
   "outputs": [],
   "source": [
    "from transformers import GenerationConfig\n",
    "import time\n",
    "\n",
    "num_generations = 10\n",
    "generation_config = GenerationConfig(\n",
    "    max_new_tokens=30,\n",
    "    do_sample=True,\n",
    "    temperaturea=0.5,\n",
    "    num_return_sequences=10,\n",
    ")\n",
    "tokenized_input = tokenizer([prompt], return_tensors=\"pt\")\n",
    "input_ids = tokenized_input[\"input_ids\"]"
   ]
  },
  {
   "cell_type": "code",
   "execution_count": null,
   "id": "dcbfc6bc-0c64-4e8e-b226-003c53e23e49",
   "metadata": {},
   "outputs": [],
   "source": [
    "start_time = time.time()\n",
    "# Set the seed if you want to have the sampling behavior.\n",
    "# You can set it before the previous generation calls as well.\n",
    "# Try generating repeatedly with the same non-zero temperature with and witout setting the seed.\n",
    "set_seed(seed)\n",
    "gen_ids = model.generate(input_ids, generation_config=generation_config)\n",
    "print(f\"Elapsed time: {time.time() - start_time: 0.2f}\")\n",
    "\n",
    "outputs = tokenizer.batch_decode(gen_ids)\n",
    "print(outputs)"
   ]
  },
  {
   "cell_type": "code",
   "execution_count": null,
   "id": "28a972ef-a834-48e7-a1a1-293c3025faf7",
   "metadata": {},
   "outputs": [],
   "source": [
    "start_time = time.time()\n",
    "set_seed(seed)\n",
    "gen_ids = model.generate(input_ids, generation_config=generation_config, use_cache=False)\n",
    "print(f\"Elapsed time: {time.time() - start_time: 0.2f}\")\n",
    "\n",
    "outputs = tokenizer.batch_decode(gen_ids)\n",
    "print(outputs)"
   ]
  },
  {
   "cell_type": "markdown",
   "id": "79e44ea7",
   "metadata": {},
   "source": [
    "# Exercise 4: Reproducibility [15 mins]\n",
    "\n",
    "An essential part of your LLM generation pipeline is reproducibility. You want to save all the parameters used in generation so that you can get the same measurements again.\n",
    "\n",
    "Save all the parameters, e.g., seeds, generation lenght, to file. Load these parameters again and perform the inference. Check if you get identical outputs before and after the save/load operation."
   ]
  },
  {
   "cell_type": "code",
   "execution_count": null,
   "id": "5f285715",
   "metadata": {},
   "outputs": [],
   "source": [
    "save_dir = \".\"  # The directory where we want to save the file\n",
    "config_file = \"gen_config.json\" # Name of the saved file\n",
    "seed_file = \"seed.txt\"  # File where we store our random seed\n",
    "generation_config.save_pretrained(\".\", config_file_name=config_file)\n",
    "with open(seed_file, \"w\") as f:\n",
    "    f.write(str(seed) + \"\\n\")\n",
    "\n",
    "generation_config = GenerationConfig.from_pretrained(\".\", config_file_name=config_file)\n",
    "with open(seed_file) as f:\n",
    "    seed = int(f.read().strip())\n"
   ]
  },
  {
   "cell_type": "code",
   "execution_count": null,
   "id": "11e625d4",
   "metadata": {},
   "outputs": [],
   "source": [
    "set_seed(seed)\n",
    "outputs_loaded_config = tokenizer.batch_decode(\n",
    "    model.generate(input_ids, generation_config=generation_config)\n",
    "    )\n",
    "\n",
    "# Check that the outputs are the same with the loaded config and seed\n",
    "assert all([g1==g2 for g1, g2 in zip(outputs, outputs_loaded_config)])"
   ]
  },
  {
   "cell_type": "code",
   "execution_count": null,
   "id": "1e3381c3",
   "metadata": {},
   "outputs": [],
   "source": []
  }
 ],
 "metadata": {
  "kernelspec": {
   "display_name": "llmcourse",
   "language": "python",
   "name": "python3"
  },
  "language_info": {
   "codemirror_mode": {
    "name": "ipython",
    "version": 3
   },
   "file_extension": ".py",
   "mimetype": "text/x-python",
   "name": "python",
   "nbconvert_exporter": "python",
   "pygments_lexer": "ipython3",
   "version": "3.9.21"
  }
 },
 "nbformat": 4,
 "nbformat_minor": 5
}
